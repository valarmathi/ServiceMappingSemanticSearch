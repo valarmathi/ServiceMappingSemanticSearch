{
 "cells": [
  {
   "cell_type": "code",
   "execution_count": 6,
   "id": "1d232f79-47e3-4adc-9398-c1669ce80c36",
   "metadata": {},
   "outputs": [],
   "source": [
    "!pip install -U -q pdfplumber tiktoken openai chromaDB sentence-transformers"
   ]
  },
  {
   "cell_type": "code",
   "execution_count": 7,
   "id": "c9826308-2393-44b4-8379-5063b9882ae5",
   "metadata": {},
   "outputs": [],
   "source": [
    "import openai\n",
    "import chromadb"
   ]
  },
  {
   "cell_type": "code",
   "execution_count": 8,
   "id": "730a5a27-2dd6-436b-bf29-c2e18ac2bfdb",
   "metadata": {},
   "outputs": [],
   "source": [
    "from chromadb.utils.embedding_functions import OpenAIEmbeddingFunction"
   ]
  },
  {
   "cell_type": "code",
   "execution_count": 9,
   "id": "b296eda4-3b23-4405-93b6-6a4d6e850ada",
   "metadata": {},
   "outputs": [],
   "source": [
    "import chromadb"
   ]
  },
  {
   "cell_type": "code",
   "execution_count": 10,
   "id": "af3cc040-530f-4c2c-af5d-f5f9f7aa84a5",
   "metadata": {},
   "outputs": [],
   "source": [
    "# Import the CrossEncoder library from sentence_transformers\n",
    "\n",
    "from sentence_transformers import CrossEncoder, util"
   ]
  },
  {
   "cell_type": "code",
   "execution_count": null,
   "id": "87aa2baf-66d4-4b9d-ab76-2762c332e9fc",
   "metadata": {},
   "outputs": [],
   "source": []
  }
 ],
 "metadata": {
  "kernelspec": {
   "display_name": "Python 3 (ipykernel)",
   "language": "python",
   "name": "python3"
  },
  "language_info": {
   "codemirror_mode": {
    "name": "ipython",
    "version": 3
   },
   "file_extension": ".py",
   "mimetype": "text/x-python",
   "name": "python",
   "nbconvert_exporter": "python",
   "pygments_lexer": "ipython3",
   "version": "3.11.7"
  }
 },
 "nbformat": 4,
 "nbformat_minor": 5
}
